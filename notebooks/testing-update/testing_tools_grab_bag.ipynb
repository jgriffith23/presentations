{
 "cells": [
  {
   "cell_type": "markdown",
   "metadata": {},
   "source": [
    "As part of the py3-ification project, we're writing lots of tests. Check out all the __*_test.txt*__ files in the repo to see some of them!\n",
    "\n",
    "These are some random lessons I've learned while working on those tests."
   ]
  },
  {
   "cell_type": "markdown",
   "metadata": {
    "slideshow": {
     "slide_type": "-"
    }
   },
   "source": [
    "Mimicking User Input\n",
    "===========\n",
    "\n",
    "How can we test a function that takes in data with ``raw_input``?"
   ]
  },
  {
   "cell_type": "code",
   "execution_count": null,
   "metadata": {
    "slideshow": {
     "slide_type": "-"
    }
   },
   "outputs": [],
   "source": [
    "\"\"\"Run me to see the usual way input works!\"\"\"\n",
    "\n",
    "for i in range(3):\n",
    "    fruit = input(\"Hey, give me some fruit! > \")    # Python 3 uses input, not raw_input\n",
    "    print(f\"Yay, I got {fruit}!\")                   # Python 3.6 f string!"
   ]
  },
  {
   "cell_type": "markdown",
   "metadata": {
    "slideshow": {
     "slide_type": "-"
    }
   },
   "source": [
    "This appears in, for example, the Guessing Game exercise. After the user executes the\n",
    "Python file contaning the game, they're prompted for input:\n",
    "\n",
    "    Howdy, what's your name?\n",
    "    (type in your name) Jessica\n",
    "    Jessica, I'm thinking of a number between 1 and 100.\n",
    "    Try to guess my number.\n",
    "    Your guess? 50\n",
    "    Your guess is too low, try again.\n",
    "    Your guess? 80\n",
    "    Your guess is too high, try again.\n",
    "    Your guess? 60\n",
    "    Your guess is too low, try again.\n",
    "    Your guess? 70\n",
    "    Your guess is too high, try again.\n",
    "    Your guess? 63\n",
    "    Your guess is too low, try again.\n",
    "    Your guess? 64\n",
    "    Your guess is too low, try again.\n",
    "    Your guess? 67\n",
    "    Your guess is too low, try again.\n",
    "    Your guess? 69\n",
    "    Your guess is too high, try again.\n",
    "    Your guess? 68\n",
    "    Well done, Jessica! You found my number in 9 tries!\n",
    "    \n",
    "And of course, they can keep guessing until they get the number right. \n"
   ]
  },
  {
   "cell_type": "code",
   "execution_count": 1,
   "metadata": {
    "collapsed": true
   },
   "outputs": [],
   "source": [
    "import sys"
   ]
  },
  {
   "cell_type": "code",
   "execution_count": 7,
   "metadata": {},
   "outputs": [
    {
     "name": "stdout",
     "output_type": "stream",
     "text": [
      "Hey, give me some fruit! > apples\n",
      "Yay, I got apples!\n",
      "Hey, give me some fruit! > berries\n",
      "Yay, I got berries!\n",
      "Hey, give me some fruit! > cherries\n",
      "Yay, I got cherries!\n"
     ]
    }
   ],
   "source": [
    "def fake_input(prompt):\n",
    "    \"\"\"Display prompt to stdout & return first item from _inputs.\"\"\"\n",
    "    \n",
    "    # Prompt becomes whatever you pass raw_input/input.\n",
    "    \n",
    "    # If you were to just print the prompt instead, you'd end up with\n",
    "    # an extra space after it, so we write the prompt to stdout directly\n",
    "    # instead. Try it, though. :)\n",
    "    \n",
    "    # print(prompt, end=\" \")\n",
    "    \n",
    "    sys.stdout.write(prompt)\n",
    "    \n",
    "    v = _inputs.pop(0)\n",
    "    \n",
    "    print(v)\n",
    "    return v\n",
    "\n",
    "# The funnest part: replacing the builtin raw_input or input!\n",
    "\n",
    "try:\n",
    "    import __builtin__ as b    # Python 2\n",
    "except ImportError:\n",
    "    import builtins as b       # Python 3\n",
    "    \n",
    "b.raw_input = b.input = fake_input\n",
    "\n",
    "# Make a list of items for fake_input to pop from\n",
    "_inputs = [\"apples\", \"berries\", \"cherries\"]\n",
    "\n",
    "# And ask for our inputs.\n",
    "     \n",
    "for i in range(3):\n",
    "    fruit = input(\"Hey, give me some fruit! > \")    # Python 3 uses input, not raw_input\n",
    "    print(f\"Yay, I got {fruit}!\")                   # Python 3.6 f string! <3"
   ]
  },
  {
   "cell_type": "markdown",
   "metadata": {},
   "source": [
    "Also experimented with StringIO, but didn't end up using it because the output didn't match the game's actual output, visually.\n",
    "\n",
    "- reads from/writes to a string buffer. \n",
    "- behaves kind of like a file object\n",
    "\n",
    "Docs for py2: https://docs.python.org/2/library/stringio.html\n",
    "\n",
    "Docs for py3: https://docs.python.org/3/library/io.html#io.StringIO\n",
    "\n"
   ]
  },
  {
   "cell_type": "markdown",
   "metadata": {},
   "source": [
    "Mocking Output That Can Change\n",
    "================\n",
    "\n",
    "Remember that time Mel wanted to implement Rush Hour pricing, where melons cost $4 more if the \n",
    "time is between 8 AM and 11 AM on a weekday? I do, and if you've done oo-melons, you probably do, too."
   ]
  },
  {
   "cell_type": "markdown",
   "metadata": {},
   "source": [
    "The Code to Test:\n",
    "----------------"
   ]
  },
  {
   "cell_type": "code",
   "execution_count": null,
   "metadata": {
    "collapsed": true
   },
   "outputs": [],
   "source": [
    "def get_base_price(self):\n",
    "    \"\"\"Calculate base price using splurge pricing and rush hour fee.\"\"\"\n",
    "\n",
    "    # Splurge rate\n",
    "    base_price = random.randrange(5, 10)\n",
    "\n",
    "    now = datetime.datetime.now()\n",
    "\n",
    "    # Is it rush hour?\n",
    "    if now.hour >= 8 and now.hour <= 11 and now.weekday() < 5:\n",
    "        base_price += 4\n",
    "\n",
    "    return base_price"
   ]
  },
  {
   "cell_type": "markdown",
   "metadata": {},
   "source": [
    "We never want to be testing someone else's code. Two problem points, then: `randrange` and `datetime.now()`. "
   ]
  },
  {
   "cell_type": "markdown",
   "metadata": {},
   "source": [
    "Overwriting `random.randrange()`\n",
    "------------------------------\n",
    "\n",
    "...was the easy part.\n",
    "\n"
   ]
  },
  {
   "cell_type": "code",
   "execution_count": 8,
   "metadata": {},
   "outputs": [],
   "source": [
    "import random\n",
    "random.randrange = lambda x, y: 42"
   ]
  },
  {
   "cell_type": "code",
   "execution_count": 9,
   "metadata": {},
   "outputs": [
    {
     "data": {
      "text/plain": [
       "42"
      ]
     },
     "execution_count": 9,
     "metadata": {},
     "output_type": "execute_result"
    }
   ],
   "source": [
    "random.randrange(10, 100)"
   ]
  },
  {
   "cell_type": "markdown",
   "metadata": {},
   "source": [
    "Okay, but do you believe me?"
   ]
  },
  {
   "cell_type": "code",
   "execution_count": 10,
   "metadata": {},
   "outputs": [
    {
     "data": {
      "text/plain": [
       "42"
      ]
     },
     "execution_count": 10,
     "metadata": {},
     "output_type": "execute_result"
    }
   ],
   "source": [
    "random.randrange(1, 4)"
   ]
  },
  {
   "cell_type": "markdown",
   "metadata": {},
   "source": [
    "Yay! It's really gone!"
   ]
  },
  {
   "cell_type": "markdown",
   "metadata": {},
   "source": [
    "Overwriting `datetime.now()`\n",
    "--------------------------\n",
    "\n",
    "...was a little trickier, but still very doable. :)\n",
    "\n",
    "Let's get the current time:"
   ]
  },
  {
   "cell_type": "code",
   "execution_count": 11,
   "metadata": {},
   "outputs": [
    {
     "data": {
      "text/plain": [
       "datetime.datetime(2017, 4, 11, 9, 40, 0, 254806)"
      ]
     },
     "execution_count": 11,
     "metadata": {},
     "output_type": "execute_result"
    }
   ],
   "source": [
    "import datetime\n",
    "\n",
    "datetime.datetime.now()"
   ]
  },
  {
   "cell_type": "markdown",
   "metadata": {},
   "source": [
    "Awesome. Funnily enough, when students hit this piece of the Further Study, it's usually not rush hour, so how\n",
    "can they know their code works...?\n",
    "\n",
    "And how can we test our solution code reliably at any time? First, I tried this:"
   ]
  },
  {
   "cell_type": "code",
   "execution_count": 12,
   "metadata": {},
   "outputs": [
    {
     "data": {
      "text/plain": [
       "datetime.datetime(2017, 4, 3, 9, 0)"
      ]
     },
     "execution_count": 12,
     "metadata": {},
     "output_type": "execute_result"
    }
   ],
   "source": [
    "fake_now = lambda: datetime.datetime(2017, 4, 3, 9, 0)\n",
    "fake_now()"
   ]
  },
  {
   "cell_type": "code",
   "execution_count": 13,
   "metadata": {},
   "outputs": [
    {
     "ename": "TypeError",
     "evalue": "can't set attributes of built-in/extension type 'datetime.datetime'",
     "output_type": "error",
     "traceback": [
      "\u001b[0;31m---------------------------------------------------------------------------\u001b[0m",
      "\u001b[0;31mTypeError\u001b[0m                                 Traceback (most recent call last)",
      "\u001b[0;32m<ipython-input-13-cc626aca1b65>\u001b[0m in \u001b[0;36m<module>\u001b[0;34m()\u001b[0m\n\u001b[0;32m----> 1\u001b[0;31m \u001b[0mdatetime\u001b[0m\u001b[0;34m.\u001b[0m\u001b[0mdatetime\u001b[0m\u001b[0;34m.\u001b[0m\u001b[0mnow\u001b[0m \u001b[0;34m=\u001b[0m \u001b[0mfake_now\u001b[0m\u001b[0;34m\u001b[0m\u001b[0m\n\u001b[0m",
      "\u001b[0;31mTypeError\u001b[0m: can't set attributes of built-in/extension type 'datetime.datetime'"
     ]
    }
   ],
   "source": [
    "datetime.datetime.now = fake_now"
   ]
  },
  {
   "cell_type": "markdown",
   "metadata": {},
   "source": [
    "Sadness! We're just going to have to nuke the whole class, then."
   ]
  },
  {
   "cell_type": "code",
   "execution_count": 14,
   "metadata": {
    "collapsed": true
   },
   "outputs": [],
   "source": [
    "class RushHourDatetime(datetime.datetime):\n",
    "    @classmethod\n",
    "    def now(cls):\n",
    "        return datetime.datetime(2017, 4, 3, 9)       \n",
    "datetime.datetime = RushHourDatetime"
   ]
  },
  {
   "cell_type": "code",
   "execution_count": 15,
   "metadata": {},
   "outputs": [
    {
     "data": {
      "text/plain": [
       "RushHourDatetime(2017, 4, 3, 9, 0)"
      ]
     },
     "execution_count": 15,
     "metadata": {},
     "output_type": "execute_result"
    }
   ],
   "source": [
    "datetime.datetime.now()"
   ]
  },
  {
   "cell_type": "code",
   "execution_count": 19,
   "metadata": {},
   "outputs": [
    {
     "name": "stdout",
     "output_type": "stream",
     "text": [
      "The current datetime is: 2017-04-03 09:00:00\n",
      "A cool number, you say? How about 42...or maybe e...or maybe j...I can't make up my mind!\n"
     ]
    }
   ],
   "source": [
    "def get_cool_num():\n",
    "    \"\"\"Return a cool number, based on the time of day.\"\"\"\n",
    "    \n",
    "    now = datetime.datetime.now()\n",
    "    \n",
    "    if now.hour > 8 and now.hour < 11:\n",
    "        print(f\"The current datetime is: {now}\")\n",
    "        return \"42...or maybe e...or maybe j...I can't make up my mind!\"\n",
    "    else:\n",
    "        return 13\n",
    "    \n",
    "print(f\"A cool number, you say? How about {get_cool_num()}\")"
   ]
  },
  {
   "cell_type": "markdown",
   "metadata": {},
   "source": [
    "Yay! But now what happens if we need to test that the prices come out correctly when it's not rush hour?"
   ]
  },
  {
   "cell_type": "code",
   "execution_count": 25,
   "metadata": {},
   "outputs": [
    {
     "ename": "TypeError",
     "evalue": "object() takes no parameters",
     "output_type": "error",
     "traceback": [
      "\u001b[0;31m---------------------------------------------------------------------------\u001b[0m",
      "\u001b[0;31mTypeError\u001b[0m                                 Traceback (most recent call last)",
      "\u001b[0;32m<ipython-input-25-b82187b5015a>\u001b[0m in \u001b[0;36m<module>\u001b[0;34m()\u001b[0m\n\u001b[1;32m      7\u001b[0m \u001b[0;34m\u001b[0m\u001b[0m\n\u001b[1;32m      8\u001b[0m \u001b[0mdatetime\u001b[0m\u001b[0;34m.\u001b[0m\u001b[0mdatetime\u001b[0m \u001b[0;34m=\u001b[0m \u001b[0mNormalHourDatetime\u001b[0m\u001b[0;34m\u001b[0m\u001b[0m\n\u001b[0;32m----> 9\u001b[0;31m \u001b[0mdatetime\u001b[0m\u001b[0;34m.\u001b[0m\u001b[0mdatetime\u001b[0m\u001b[0;34m.\u001b[0m\u001b[0mnow\u001b[0m\u001b[0;34m(\u001b[0m\u001b[0;34m)\u001b[0m\u001b[0;34m.\u001b[0m\u001b[0mhour\u001b[0m\u001b[0;34m\u001b[0m\u001b[0m\n\u001b[0m",
      "\u001b[0;32m<ipython-input-25-b82187b5015a>\u001b[0m in \u001b[0;36mnow\u001b[0;34m(cls)\u001b[0m\n\u001b[1;32m      4\u001b[0m     \u001b[0;34m@\u001b[0m\u001b[0mclassmethod\u001b[0m\u001b[0;34m\u001b[0m\u001b[0m\n\u001b[1;32m      5\u001b[0m     \u001b[0;32mdef\u001b[0m \u001b[0mnow\u001b[0m\u001b[0;34m(\u001b[0m\u001b[0mcls\u001b[0m\u001b[0;34m)\u001b[0m\u001b[0;34m:\u001b[0m\u001b[0;34m\u001b[0m\u001b[0m\n\u001b[0;32m----> 6\u001b[0;31m         \u001b[0;32mreturn\u001b[0m \u001b[0mdatetime\u001b[0m\u001b[0;34m.\u001b[0m\u001b[0mdatetime\u001b[0m\u001b[0;34m(\u001b[0m\u001b[0;36m2017\u001b[0m\u001b[0;34m,\u001b[0m \u001b[0;36m4\u001b[0m\u001b[0;34m,\u001b[0m \u001b[0;36m3\u001b[0m\u001b[0;34m,\u001b[0m \u001b[0;36m16\u001b[0m\u001b[0;34m)\u001b[0m\u001b[0;34m\u001b[0m\u001b[0m\n\u001b[0m\u001b[1;32m      7\u001b[0m \u001b[0;34m\u001b[0m\u001b[0m\n\u001b[1;32m      8\u001b[0m \u001b[0mdatetime\u001b[0m\u001b[0;34m.\u001b[0m\u001b[0mdatetime\u001b[0m \u001b[0;34m=\u001b[0m \u001b[0mNormalHourDatetime\u001b[0m\u001b[0;34m\u001b[0m\u001b[0m\n",
      "\u001b[0;31mTypeError\u001b[0m: object() takes no parameters"
     ]
    }
   ],
   "source": [
    "class NormalHourDatetime(datetime.datetime):\n",
    "    \"\"\"An ordinary time of day.\"\"\"\n",
    "    \n",
    "    @classmethod\n",
    "    def now(cls):\n",
    "        return datetime.datetime(2017, 4, 3, 16)\n",
    "    \n",
    "datetime.datetime = NormalHourDatetime\n",
    "datetime.datetime.now().hour"
   ]
  },
  {
   "cell_type": "markdown",
   "metadata": {},
   "source": [
    "Oops, we don't seem to be able to get at __*datetime.datetime*__ that way.\n",
    "\n",
    "We could just return a __*RushHourDatetime*__, which inherited from the original __*datetime.datetime*__ intsead of trying to use __*datetime.datetime*__:"
   ]
  },
  {
   "cell_type": "code",
   "execution_count": 27,
   "metadata": {},
   "outputs": [
    {
     "data": {
      "text/plain": [
       "16"
      ]
     },
     "execution_count": 27,
     "metadata": {},
     "output_type": "execute_result"
    }
   ],
   "source": [
    "class NormalHourDatetime():\n",
    "    \"\"\"An ordinary time of day.\"\"\"\n",
    "    \n",
    "    @classmethod\n",
    "    def now(cls):\n",
    "        return RushHourDatetime(2017, 4, 3, 16)\n",
    "    \n",
    "datetime.datetime = NormalHourDatetime\n",
    "datetime.datetime.now().hour"
   ]
  },
  {
   "cell_type": "markdown",
   "metadata": {},
   "source": [
    "But feels wrong. Perhaps we could have just made a __*FakeDatetime*__ class instead... \n",
    "\n",
    "Ended up just making some datetime objects in advance, and switching 'em out.\n",
    "\n",
    "**(You may have to reset the kernel here.)**"
   ]
  },
  {
   "cell_type": "code",
   "execution_count": 1,
   "metadata": {},
   "outputs": [],
   "source": [
    "import datetime\n",
    "\n",
    "NORMAL_HOUR = datetime.datetime(2017, 4, 3, 16)\n",
    "RUSH_HOUR = datetime.datetime(2017, 4, 3, 9)\n",
    "\n",
    "class NormalHourDatetime():\n",
    "    \"\"\"An ordinary time of day.\"\"\"\n",
    "    \n",
    "    @classmethod\n",
    "    def now(cls):\n",
    "        return NORMAL_HOUR\n",
    "    \n",
    "class RushHourDatetime():\n",
    "    \"\"\"A time of day where melon prices are gloriously high.\"\"\"\n",
    "    \n",
    "    @classmethod\n",
    "    def now(cls):\n",
    "        return RUSH_HOUR"
   ]
  },
  {
   "cell_type": "code",
   "execution_count": 2,
   "metadata": {},
   "outputs": [
    {
     "name": "stdout",
     "output_type": "stream",
     "text": [
      "Normal time: 2017-04-03 16:00:00\n",
      "Rush hour time: 2017-04-03 09:00:00\n"
     ]
    }
   ],
   "source": [
    "print(f\"Normal time: {NORMAL_HOUR}\", f\"Rush hour time: {RUSH_HOUR}\", sep=\"\\n\")"
   ]
  },
  {
   "cell_type": "markdown",
   "metadata": {},
   "source": [
    "Now, we can overwrite __*datetime.datetime*__ with either class, as needed."
   ]
  },
  {
   "cell_type": "code",
   "execution_count": 3,
   "metadata": {},
   "outputs": [
    {
     "name": "stdout",
     "output_type": "stream",
     "text": [
      "Overwritten with normal: 2017-04-03 16:00:00\n"
     ]
    }
   ],
   "source": [
    "datetime.datetime = NormalHourDatetime\n",
    "\n",
    "print(f\"Overwritten with normal: {datetime.datetime.now()}\")"
   ]
  },
  {
   "cell_type": "code",
   "execution_count": 4,
   "metadata": {},
   "outputs": [
    {
     "name": "stdout",
     "output_type": "stream",
     "text": [
      "Overwritten with rush hour: 2017-04-03 09:00:00\n"
     ]
    }
   ],
   "source": [
    "datetime.datetime = RushHourDatetime\n",
    "\n",
    "print(f\"Overwritten with rush hour: {datetime.datetime.now()}\")"
   ]
  },
  {
   "cell_type": "markdown",
   "metadata": {},
   "source": [
    "Yay!\n",
    "\n",
    "(If anyone has ideas about a \"best\" way to approach this problem, I'd be very interested in discussing!)"
   ]
  },
  {
   "cell_type": "markdown",
   "metadata": {},
   "source": [
    "So We're Adding Doctests to the RST, Too\n",
    "======================\n",
    "\n",
    "We're putting doctests directly into our lectures, exercises, etc.\n",
    "\n",
    "It's really cool! Take a look at dicts-1 and classes lectures for examples.\n",
    "\n",
    "There's even a fun new `make` command you can run: ``make doctest``.\n",
    "\n",
    "The setup for these tests usually isn't too bad, but when you start involving databases and Flask, things get interesting."
   ]
  },
  {
   "cell_type": "markdown",
   "metadata": {},
   "source": [
    "Dropping DBs in RST (and Python, Generally)\n",
    "----------------------------------------\n",
    "\n",
    "The steps we usually teach students for testing database code (create fake data, make a test database, use __*unittest*__, etc.) are all very important. But if you're testing a snippet in a piece of documentation...that might be more scaffolding than you need."
   ]
  },
  {
   "cell_type": "markdown",
   "metadata": {},
   "source": [
    "We can keep it simpler. You've met __*os.environ*__, but have you met __*os.system*__?"
   ]
  },
  {
   "cell_type": "code",
   "execution_count": null,
   "metadata": {
    "collapsed": true
   },
   "outputs": [],
   "source": [
    "import os\n",
    "   \n",
    "os.system(\"dropdb hackbright\")\n",
    "os.system(\"createdb hackbright\")\n",
    "os.system(\"psql hackbright < hackbright.sql\")"
   ]
  },
  {
   "cell_type": "markdown",
   "metadata": {},
   "source": [
    "You can run command line programs from inside Python!\n",
    "\n",
    "Now, if we show sample output that uses the __*hackbright*__ database, as long as you have the right SQL file to run, you can test that output.\n",
    "\n",
    "(If this code were part of an RST doctest, you'd also have to import __*sys*__ and append the directory where *hackbright.sql* lives to your path. It will probably be your current working directory. For some reason, inside these tests, the files in your current directory can't be found otherwise.)\n",
    "\n",
    "\n",
    "*__Note:__ Use __os.system__ with caution. This is the kind of code that can result in command line injection if it were to end up in production.*"
   ]
  },
  {
   "cell_type": "markdown",
   "metadata": {},
   "source": [
    "Namespace Under Test in RST\n",
    "--------------------------\n",
    "\n",
    "Inside your Python console and when you run a Python program from the command line, you can reasonably expect your `__name__` to be `\"__main__\"`. It is here:"
   ]
  },
  {
   "cell_type": "code",
   "execution_count": 5,
   "metadata": {},
   "outputs": [
    {
     "name": "stdout",
     "output_type": "stream",
     "text": [
      "__main__\n"
     ]
    }
   ],
   "source": [
    "print(__name__)"
   ]
  },
  {
   "cell_type": "code",
   "execution_count": 6,
   "metadata": {},
   "outputs": [
    {
     "name": "stdout",
     "output_type": "stream",
     "text": [
      "apple\n",
      "berry\n",
      "cherry\n"
     ]
    }
   ],
   "source": [
    "def display_fruits(fruits):\n",
    "    \"\"\"Print a given list of fruits.\n",
    "    \n",
    "    >>> display_fruits([\"apple\", \"berry\", \"cherry\"])\n",
    "    apple\n",
    "    berry\n",
    "    cherry\n",
    "    >>> print(__name__)\n",
    "    ??? Hark, a doctest failure!\n",
    "    \"\"\"\n",
    "    \n",
    "    for fruit in fruits:\n",
    "        print(f\"{fruit}\")\n",
    "        \n",
    "berries = [\"apple\", \"berry\", \"cherry\"]    # Are cherries actually berries?\n",
    "display_fruits(berries)"
   ]
  },
  {
   "cell_type": "markdown",
   "metadata": {},
   "source": [
    "Even in doctests, `__name__` should be `\"__main__\"`. Proof:"
   ]
  },
  {
   "cell_type": "code",
   "execution_count": 7,
   "metadata": {},
   "outputs": [
    {
     "name": "stdout",
     "output_type": "stream",
     "text": [
      "**********************************************************************\n",
      "File \"__main__\", line 8, in __main__.display_fruits\n",
      "Failed example:\n",
      "    print(__name__)\n",
      "Expected:\n",
      "    ??? Hark, a doctest failure!\n",
      "Got:\n",
      "    __main__\n",
      "**********************************************************************\n",
      "1 items had failures:\n",
      "   1 of   2 in __main__.display_fruits\n",
      "***Test Failed*** 1 failures.\n"
     ]
    },
    {
     "data": {
      "text/plain": [
       "TestResults(failed=1, attempted=2)"
      ]
     },
     "execution_count": 7,
     "metadata": {},
     "output_type": "execute_result"
    }
   ],
   "source": [
    "import doctest\n",
    "doctest.testmod()"
   ]
  },
  {
   "cell_type": "markdown",
   "metadata": {},
   "source": [
    "(Also, if you've ever wondered what __*doctest.testmod()*__ gives you back, it's a __*TestResults*__ instance.)"
   ]
  },
  {
   "cell_type": "markdown",
   "metadata": {},
   "source": [
    "Unfortunately, however, the namespace inside the doctests in our RST files is *not* `__main__`!"
   ]
  },
  {
   "cell_type": "markdown",
   "metadata": {},
   "source": [
    "Can't really mimic this well here, but here's a failure message you might see:\n",
    "\n",
    "``` python\n",
    "**********************************************************************\n",
    "File \"index.rst\", line 512, in default\n",
    "Failed example:\n",
    "    print __name__\n",
    "Expected nothing\n",
    "Got:\n",
    "    __builtin__\n",
    "**********************************************************************\n",
    "```\n"
   ]
  },
  {
   "cell_type": "markdown",
   "metadata": {},
   "source": [
    "This makes actions like `app = Flask(__name__)` inside RST doctests a challenge.\n",
    "\n",
    "(And we don't want to be doing that anyway. Better to make sure that instance can be correctly instantiated in the code we're testing by importing it from our Python file!)\n",
    " \n",
    "The simplest solution here was to change our code slightly. Sometimes, we \n",
    "instantiate `app` in a statement like this:\n",
    "\n",
    "``` python\n",
    "if __name__ == \"__main__\":\n",
    "    app = Flask(__name__)\n",
    "    \n",
    "    # ... \n",
    "```\n",
    "\n",
    "Best to just instantiate app at the top of the file, so it can be imported later. You can see this at work in the project-tracker-py exercise."
   ]
  },
  {
   "cell_type": "code",
   "execution_count": null,
   "metadata": {
    "collapsed": true
   },
   "outputs": [],
   "source": []
  }
 ],
 "metadata": {
  "kernelspec": {
   "display_name": "Python 3",
   "language": "python",
   "name": "python3"
  },
  "language_info": {
   "codemirror_mode": {
    "name": "ipython",
    "version": 3
   },
   "file_extension": ".py",
   "mimetype": "text/x-python",
   "name": "python",
   "nbconvert_exporter": "python",
   "pygments_lexer": "ipython3",
   "version": "3.6.1"
  }
 },
 "nbformat": 4,
 "nbformat_minor": 2
}
