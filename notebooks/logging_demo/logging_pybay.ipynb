{
 "cells": [
  {
   "cell_type": "markdown",
   "metadata": {},
   "source": [
    "Say you have some awesome code..."
   ]
  },
  {
   "cell_type": "code",
   "execution_count": 1,
   "metadata": {},
   "outputs": [],
   "source": [
    "class Cat():\n",
    "    \"\"\"A cat.\"\"\"\n",
    "    \n",
    "    def __init__(self, name):\n",
    "        self.hunger = 50\n",
    "        self.name = name\n",
    "        \n",
    "    def feed(self, calories):\n",
    "        self.hunger = self.hunger - calories\n",
    "        \n",
    "    def greet(self):\n",
    "        print(f\"Meow, meow! I'm {self.name}!\")"
   ]
  },
  {
   "cell_type": "code",
   "execution_count": 2,
   "metadata": {
    "collapsed": true
   },
   "outputs": [],
   "source": [
    "duchess = Cat(\"Duchess\")\n",
    "toulouse = Cat(\"Toulouse\")\n",
    "berlioz = Cat(\"Berlioz\")\n",
    "marie = Cat(\"Marie\")\n",
    "tom = Cat(\"Thomas O'Malley\")\n",
    "\n",
    "cats = [duchess, toulouse, berlioz, marie, tom]"
   ]
  },
  {
   "cell_type": "code",
   "execution_count": 3,
   "metadata": {
    "collapsed": true
   },
   "outputs": [],
   "source": [
    "def roll_call(cats):\n",
    "    \"\"\"Ask a group of cats to greet and state their hunger levels.\"\"\"\n",
    "    \n",
    "    for cat in cats:\n",
    "        cat.greet()\n",
    "        print(f\"{cat.name} is this hungry:\" + cat.hunger, end=\"\\n\\n\")"
   ]
  },
  {
   "cell_type": "code",
   "execution_count": 4,
   "metadata": {},
   "outputs": [
    {
     "name": "stdout",
     "output_type": "stream",
     "text": [
      "Meow, meow! I'm Duchess!\n"
     ]
    },
    {
     "ename": "TypeError",
     "evalue": "must be str, not int",
     "output_type": "error",
     "traceback": [
      "\u001b[0;31m---------------------------------------------------------------------------\u001b[0m",
      "\u001b[0;31mTypeError\u001b[0m                                 Traceback (most recent call last)",
      "\u001b[0;32m<ipython-input-4-70d73c3c6cbd>\u001b[0m in \u001b[0;36m<module>\u001b[0;34m()\u001b[0m\n\u001b[0;32m----> 1\u001b[0;31m \u001b[0mroll_call\u001b[0m\u001b[0;34m(\u001b[0m\u001b[0mcats\u001b[0m\u001b[0;34m)\u001b[0m\u001b[0;34m\u001b[0m\u001b[0m\n\u001b[0m",
      "\u001b[0;32m<ipython-input-3-495da084cd41>\u001b[0m in \u001b[0;36mroll_call\u001b[0;34m(cats)\u001b[0m\n\u001b[1;32m      4\u001b[0m     \u001b[0;32mfor\u001b[0m \u001b[0mcat\u001b[0m \u001b[0;32min\u001b[0m \u001b[0mcats\u001b[0m\u001b[0;34m:\u001b[0m\u001b[0;34m\u001b[0m\u001b[0m\n\u001b[1;32m      5\u001b[0m         \u001b[0mcat\u001b[0m\u001b[0;34m.\u001b[0m\u001b[0mgreet\u001b[0m\u001b[0;34m(\u001b[0m\u001b[0;34m)\u001b[0m\u001b[0;34m\u001b[0m\u001b[0m\n\u001b[0;32m----> 6\u001b[0;31m         \u001b[0mprint\u001b[0m\u001b[0;34m(\u001b[0m\u001b[0;34mf\"{cat.name} is this hungry:\"\u001b[0m \u001b[0;34m+\u001b[0m \u001b[0mcat\u001b[0m\u001b[0;34m.\u001b[0m\u001b[0mhunger\u001b[0m\u001b[0;34m,\u001b[0m \u001b[0mend\u001b[0m\u001b[0;34m=\u001b[0m\u001b[0;34m\"\\n\\n\"\u001b[0m\u001b[0;34m)\u001b[0m\u001b[0;34m\u001b[0m\u001b[0m\n\u001b[0m",
      "\u001b[0;31mTypeError\u001b[0m: must be str, not int"
     ]
    }
   ],
   "source": [
    "roll_call(cats)"
   ]
  },
  {
   "cell_type": "markdown",
   "metadata": {},
   "source": [
    "Oh dear. Where have I gone wrong? I guess I should print the types of the variables I'm using."
   ]
  },
  {
   "cell_type": "code",
   "execution_count": 5,
   "metadata": {
    "collapsed": true
   },
   "outputs": [],
   "source": [
    "def roll_call(cats):\n",
    "    \"\"\"Ask a group of cats to greet and state their hunger levels.\"\"\"\n",
    "    \n",
    "    for cat in cats:\n",
    "        cat.greet()\n",
    "        print(f\"Name's type is: {type(cat.name)} \\nHunger's type is: {type(cat.hunger)}\")\n",
    "        print(f\"{cat.name} is this hungry: \" + cat.hunger, end=\"\\n\\n\")"
   ]
  },
  {
   "cell_type": "code",
   "execution_count": 6,
   "metadata": {},
   "outputs": [
    {
     "name": "stdout",
     "output_type": "stream",
     "text": [
      "Meow, meow! I'm Duchess!\n",
      "Name's type is: <class 'str'> \n",
      "Hunger's type is: <class 'int'>\n"
     ]
    },
    {
     "ename": "TypeError",
     "evalue": "must be str, not int",
     "output_type": "error",
     "traceback": [
      "\u001b[0;31m---------------------------------------------------------------------------\u001b[0m",
      "\u001b[0;31mTypeError\u001b[0m                                 Traceback (most recent call last)",
      "\u001b[0;32m<ipython-input-6-70d73c3c6cbd>\u001b[0m in \u001b[0;36m<module>\u001b[0;34m()\u001b[0m\n\u001b[0;32m----> 1\u001b[0;31m \u001b[0mroll_call\u001b[0m\u001b[0;34m(\u001b[0m\u001b[0mcats\u001b[0m\u001b[0;34m)\u001b[0m\u001b[0;34m\u001b[0m\u001b[0m\n\u001b[0m",
      "\u001b[0;32m<ipython-input-5-0c3983dd308a>\u001b[0m in \u001b[0;36mroll_call\u001b[0;34m(cats)\u001b[0m\n\u001b[1;32m      5\u001b[0m         \u001b[0mcat\u001b[0m\u001b[0;34m.\u001b[0m\u001b[0mgreet\u001b[0m\u001b[0;34m(\u001b[0m\u001b[0;34m)\u001b[0m\u001b[0;34m\u001b[0m\u001b[0m\n\u001b[1;32m      6\u001b[0m         \u001b[0mprint\u001b[0m\u001b[0;34m(\u001b[0m\u001b[0;34mf\"Name's type is: {type(cat.name)} \\nHunger's type is: {type(cat.hunger)}\"\u001b[0m\u001b[0;34m)\u001b[0m\u001b[0;34m\u001b[0m\u001b[0m\n\u001b[0;32m----> 7\u001b[0;31m         \u001b[0mprint\u001b[0m\u001b[0;34m(\u001b[0m\u001b[0;34mf\"{cat.name} is this hungry: \"\u001b[0m \u001b[0;34m+\u001b[0m \u001b[0mcat\u001b[0m\u001b[0;34m.\u001b[0m\u001b[0mhunger\u001b[0m\u001b[0;34m,\u001b[0m \u001b[0mend\u001b[0m\u001b[0;34m=\u001b[0m\u001b[0;34m\"\\n\\n\"\u001b[0m\u001b[0;34m)\u001b[0m\u001b[0;34m\u001b[0m\u001b[0m\n\u001b[0m",
      "\u001b[0;31mTypeError\u001b[0m: must be str, not int"
     ]
    }
   ],
   "source": [
    "roll_call(cats)"
   ]
  },
  {
   "cell_type": "markdown",
   "metadata": {},
   "source": [
    "Ahhh. `hunger` is an integer! (Perhaps a better way to fix would be to bring `hunger` into the format string and let Python figure it out, but...)"
   ]
  },
  {
   "cell_type": "code",
   "execution_count": 7,
   "metadata": {
    "collapsed": true
   },
   "outputs": [],
   "source": [
    "def roll_call(cats):\n",
    "    \"\"\"Ask a group of cats to greet and state their hunger levels.\"\"\"\n",
    "    \n",
    "    for cat in cats:\n",
    "        cat.greet()\n",
    "        print(f\"Name's type is: {type(cat.name)} \\nHunger's type is: {type(cat.hunger)}\")\n",
    "        print(f\"{cat.name} is this hungry: \" + str(cat.hunger))"
   ]
  },
  {
   "cell_type": "code",
   "execution_count": 8,
   "metadata": {
    "scrolled": true
   },
   "outputs": [
    {
     "name": "stdout",
     "output_type": "stream",
     "text": [
      "Meow, meow! I'm Duchess!\n",
      "Name's type is: <class 'str'> \n",
      "Hunger's type is: <class 'int'>\n",
      "Duchess is this hungry: 50\n",
      "Meow, meow! I'm Toulouse!\n",
      "Name's type is: <class 'str'> \n",
      "Hunger's type is: <class 'int'>\n",
      "Toulouse is this hungry: 50\n",
      "Meow, meow! I'm Berlioz!\n",
      "Name's type is: <class 'str'> \n",
      "Hunger's type is: <class 'int'>\n",
      "Berlioz is this hungry: 50\n",
      "Meow, meow! I'm Marie!\n",
      "Name's type is: <class 'str'> \n",
      "Hunger's type is: <class 'int'>\n",
      "Marie is this hungry: 50\n",
      "Meow, meow! I'm Thomas O'Malley!\n",
      "Name's type is: <class 'str'> \n",
      "Hunger's type is: <class 'int'>\n",
      "Thomas O'Malley is this hungry: 50\n"
     ]
    }
   ],
   "source": [
    "roll_call(cats)"
   ]
  },
  {
   "cell_type": "markdown",
   "metadata": {},
   "source": [
    "Sweet! No errors. Now let's delete those print statements. I'm adding doctests, just in case."
   ]
  },
  {
   "cell_type": "code",
   "execution_count": 9,
   "metadata": {
    "collapsed": true
   },
   "outputs": [],
   "source": [
    "def roll_call(cats):\n",
    "    \"\"\"Ask a group of cats to greet and state their hunger levels.\n",
    "    \n",
    "    >>> roll_call([Cat(\"Fancy\"), Cat(\"Instance\")])\n",
    "    Meow, meow! I'm Fancy!\n",
    "    Fancy is this hungry: 10\n",
    "    Meow, meow! I'm Instance!\n",
    "    Instance is this hungry: 10\n",
    "    \"\"\"    \n",
    "    \n",
    "    for cat in cats:\n",
    "        cat.greet()"
   ]
  },
  {
   "cell_type": "code",
   "execution_count": 10,
   "metadata": {},
   "outputs": [
    {
     "name": "stdout",
     "output_type": "stream",
     "text": [
      "**********************************************************************\n",
      "File \"__main__\", line 4, in __main__.roll_call\n",
      "Failed example:\n",
      "    roll_call([Cat(\"Fancy\"), Cat(\"Instance\")])\n",
      "Expected:\n",
      "    Meow, meow! I'm Fancy!\n",
      "    Fancy is this hungry: 10\n",
      "    Meow, meow! I'm Instance!\n",
      "    Instance is this hungry: 10\n",
      "Got:\n",
      "    Meow, meow! I'm Fancy!\n",
      "    Meow, meow! I'm Instance!\n",
      "**********************************************************************\n",
      "1 items had failures:\n",
      "   1 of   1 in __main__.roll_call\n",
      "***Test Failed*** 1 failures.\n"
     ]
    },
    {
     "data": {
      "text/plain": [
       "TestResults(failed=1, attempted=1)"
      ]
     },
     "execution_count": 10,
     "metadata": {},
     "output_type": "execute_result"
    }
   ],
   "source": [
    "import doctest\n",
    "doctest.testmod()"
   ]
  },
  {
   "cell_type": "markdown",
   "metadata": {},
   "source": [
    "Hm. It looks like I deleted a print statement I needed. Whyyyy? T.T"
   ]
  },
  {
   "cell_type": "code",
   "execution_count": 11,
   "metadata": {
    "collapsed": true
   },
   "outputs": [],
   "source": [
    "def roll_call(cats):\n",
    "    \"\"\"Ask a group of cats to greet and state their hunger levels.\n",
    "    \n",
    "    >>> roll_call([Cat(\"Fancy\"), Cat(\"Instance\")])\n",
    "    Meow, meow! I'm Fancy!\n",
    "    Fancy is this hungry: 50\n",
    "    Meow, meow! I'm Instance!\n",
    "    Instance is this hungry: 50\n",
    "    \"\"\"    \n",
    "    \n",
    "    for cat in cats:\n",
    "        cat.greet()\n",
    "        print(f\"{cat.name} is this hungry: \" + str(cat.hunger))"
   ]
  },
  {
   "cell_type": "code",
   "execution_count": 12,
   "metadata": {},
   "outputs": [
    {
     "data": {
      "text/plain": [
       "TestResults(failed=0, attempted=1)"
      ]
     },
     "execution_count": 12,
     "metadata": {},
     "output_type": "execute_result"
    }
   ],
   "source": [
    "doctest.testmod()"
   ]
  },
  {
   "cell_type": "markdown",
   "metadata": {},
   "source": [
    "**How could I have avoided that sad situation?**\n",
    "\n",
    "Perhaps if my debug output looked different from my print output...\n",
    "\n",
    "The `logging` module can help!"
   ]
  },
  {
   "cell_type": "code",
   "execution_count": 13,
   "metadata": {},
   "outputs": [],
   "source": [
    "import logging\n",
    "\n",
    "debug_logger = logging.getLogger(\"debug_logger\")\n",
    "debug_logger.setLevel(logging.DEBUG)\n",
    "\n",
    "stdout = logging.StreamHandler()\n",
    "\n",
    "debug_logger.addHandler(stdout)"
   ]
  },
  {
   "cell_type": "code",
   "execution_count": 14,
   "metadata": {
    "collapsed": true
   },
   "outputs": [],
   "source": [
    "def roll_call(cats):\n",
    "    \"\"\"Ask a group of cats to greet and state their hunger levels.\n",
    "    \n",
    "    >>> roll_call([Cat(\"Fancy\"), Cat(\"Instance\")])\n",
    "    Meow, meow! I'm Fancy!\n",
    "    Fancy is this hungry: 10\n",
    "    Meow, meow! I'm Instance!\n",
    "    Instance is this hungry: 10\n",
    "    \"\"\"\n",
    "    \n",
    "    for cat in cats:\n",
    "        cat.greet()\n",
    "        debug_logger.debug(f\"Name's type is: {type(cat.name)} \\nHunger's type is: {type(cat.hunger)}\")        \n",
    "        print(f\"{cat.name} is this hungry: \" + cat.hunger)"
   ]
  },
  {
   "cell_type": "code",
   "execution_count": 15,
   "metadata": {
    "scrolled": true
   },
   "outputs": [
    {
     "name": "stderr",
     "output_type": "stream",
     "text": [
      "Name's type is: <class 'str'> \n",
      "Hunger's type is: <class 'int'>\n"
     ]
    },
    {
     "name": "stdout",
     "output_type": "stream",
     "text": [
      "Meow, meow! I'm Duchess!\n"
     ]
    },
    {
     "ename": "TypeError",
     "evalue": "must be str, not int",
     "output_type": "error",
     "traceback": [
      "\u001b[0;31m---------------------------------------------------------------------------\u001b[0m",
      "\u001b[0;31mTypeError\u001b[0m                                 Traceback (most recent call last)",
      "\u001b[0;32m<ipython-input-15-70d73c3c6cbd>\u001b[0m in \u001b[0;36m<module>\u001b[0;34m()\u001b[0m\n\u001b[0;32m----> 1\u001b[0;31m \u001b[0mroll_call\u001b[0m\u001b[0;34m(\u001b[0m\u001b[0mcats\u001b[0m\u001b[0;34m)\u001b[0m\u001b[0;34m\u001b[0m\u001b[0m\n\u001b[0m",
      "\u001b[0;32m<ipython-input-14-4649d71d5e46>\u001b[0m in \u001b[0;36mroll_call\u001b[0;34m(cats)\u001b[0m\n\u001b[1;32m     12\u001b[0m         \u001b[0mcat\u001b[0m\u001b[0;34m.\u001b[0m\u001b[0mgreet\u001b[0m\u001b[0;34m(\u001b[0m\u001b[0;34m)\u001b[0m\u001b[0;34m\u001b[0m\u001b[0m\n\u001b[1;32m     13\u001b[0m         \u001b[0mdebug_logger\u001b[0m\u001b[0;34m.\u001b[0m\u001b[0mdebug\u001b[0m\u001b[0;34m(\u001b[0m\u001b[0;34mf\"Name's type is: {type(cat.name)} \\nHunger's type is: {type(cat.hunger)}\"\u001b[0m\u001b[0;34m)\u001b[0m\u001b[0;34m\u001b[0m\u001b[0m\n\u001b[0;32m---> 14\u001b[0;31m         \u001b[0mprint\u001b[0m\u001b[0;34m(\u001b[0m\u001b[0;34mf\"{cat.name} is this hungry: \"\u001b[0m \u001b[0;34m+\u001b[0m \u001b[0mcat\u001b[0m\u001b[0;34m.\u001b[0m\u001b[0mhunger\u001b[0m\u001b[0;34m)\u001b[0m\u001b[0;34m\u001b[0m\u001b[0m\n\u001b[0m",
      "\u001b[0;31mTypeError\u001b[0m: must be str, not int"
     ]
    }
   ],
   "source": [
    "roll_call(cats)"
   ]
  },
  {
   "cell_type": "markdown",
   "metadata": {},
   "source": [
    "You could also write log output to a file. Say when we call roll, we want to instead quietly record the cat's hunger to a file."
   ]
  },
  {
   "cell_type": "code",
   "execution_count": 21,
   "metadata": {},
   "outputs": [],
   "source": [
    "hunger_logger = logging.getLogger(\"hunger_logger\")\n",
    "hunger_logger.setLevel(logging.INFO)\n",
    "\n",
    "log_file_handler = logging.FileHandler(\"cat_hunger_log.txt\")\n",
    "\n",
    "fmt = logging.Formatter('%(asctime)s - %(message)s')\n",
    "log_file_handler.setFormatter(fmt)\n",
    "\n",
    "hunger_logger.addHandler(log_file_handler)"
   ]
  },
  {
   "cell_type": "code",
   "execution_count": 22,
   "metadata": {
    "collapsed": true
   },
   "outputs": [],
   "source": [
    "def roll_call(cats):\n",
    "    \"\"\"Ask a group of cats to greet and log their hunger levels.\n",
    "    \n",
    "    >>> roll_call([Cat(\"Fancy\"), Cat(\"Instance\")])\n",
    "    Meow, meow! I'm Fancy!\n",
    "    Meow, meow! I'm Instance!\n",
    "    \"\"\"\n",
    "    \n",
    "    for cat in cats:\n",
    "        cat.greet()\n",
    "        \n",
    "        # Perhaps the hunger levels should just get recorded quietly anyway.\n",
    "        hunger_logger.info(f\"{cat.name} is this hungry: {cat.hunger}\")"
   ]
  },
  {
   "cell_type": "code",
   "execution_count": 23,
   "metadata": {},
   "outputs": [
    {
     "name": "stdout",
     "output_type": "stream",
     "text": [
      "Meow, meow! I'm Duchess!\n",
      "Meow, meow! I'm Toulouse!\n",
      "Meow, meow! I'm Berlioz!\n",
      "Meow, meow! I'm Marie!\n",
      "Meow, meow! I'm Thomas O'Malley!\n"
     ]
    }
   ],
   "source": [
    "roll_call(cats)"
   ]
  },
  {
   "cell_type": "markdown",
   "metadata": {},
   "source": [
    "Now if we feed some cats..."
   ]
  },
  {
   "cell_type": "code",
   "execution_count": 24,
   "metadata": {
    "collapsed": true
   },
   "outputs": [],
   "source": [
    "duchess.feed(45)\n",
    "berlioz.feed(80)\n",
    "tom.feed(100)"
   ]
  },
  {
   "cell_type": "markdown",
   "metadata": {},
   "source": [
    "We can keep track of their hunger levels in our log!"
   ]
  },
  {
   "cell_type": "code",
   "execution_count": 25,
   "metadata": {},
   "outputs": [
    {
     "name": "stdout",
     "output_type": "stream",
     "text": [
      "Meow, meow! I'm Duchess!\n",
      "Meow, meow! I'm Toulouse!\n",
      "Meow, meow! I'm Berlioz!\n",
      "Meow, meow! I'm Marie!\n",
      "Meow, meow! I'm Thomas O'Malley!\n"
     ]
    }
   ],
   "source": [
    "roll_call(cats)"
   ]
  },
  {
   "cell_type": "code",
   "execution_count": 27,
   "metadata": {},
   "outputs": [
    {
     "name": "stdout",
     "output_type": "stream",
     "text": [
      "2017-08-23 16:49:28,706 - Duchess is this hungry: 50\n",
      "\n",
      "2017-08-23 16:49:28,707 - Toulouse is this hungry: 50\n",
      "\n",
      "2017-08-23 16:49:28,708 - Berlioz is this hungry: 50\n",
      "\n",
      "2017-08-23 16:49:28,708 - Marie is this hungry: 50\n",
      "\n",
      "2017-08-23 16:49:28,709 - Thomas O'Malley is this hungry: 50\n",
      "\n",
      "2017-08-23 16:51:17,286 - Duchess is this hungry: 5\n",
      "\n",
      "2017-08-23 16:51:17,286 - Toulouse is this hungry: 50\n",
      "\n",
      "2017-08-23 16:51:17,287 - Berlioz is this hungry: -30\n",
      "\n",
      "2017-08-23 16:51:17,287 - Marie is this hungry: 50\n",
      "\n",
      "2017-08-23 16:51:17,288 - Thomas O'Malley is this hungry: -50\n",
      "\n"
     ]
    }
   ],
   "source": [
    "with open(\"cat_hunger_log.txt\") as log:\n",
    "    for line in log:\n",
    "        print(line)"
   ]
  },
  {
   "cell_type": "markdown",
   "metadata": {},
   "source": [
    "References\n",
    "----------\n",
    "\n",
    "\n",
    "https://inventwithpython.com/blog/2012/04/06/stop-using-print-for-debugging-a-5-minute-quickstart-guide-to-pythons-logging-module/\n",
    "\n",
    "https://docs.python.org/3/library/logging.html\n",
    "\n",
    "https://docs.python.org/3/howto/logging.html\n",
    "\n"
   ]
  },
  {
   "cell_type": "code",
   "execution_count": null,
   "metadata": {
    "collapsed": true
   },
   "outputs": [],
   "source": []
  }
 ],
 "metadata": {
  "kernelspec": {
   "display_name": "Python 3",
   "language": "python",
   "name": "python3"
  },
  "language_info": {
   "codemirror_mode": {
    "name": "ipython",
    "version": 3
   },
   "file_extension": ".py",
   "mimetype": "text/x-python",
   "name": "python",
   "nbconvert_exporter": "python",
   "pygments_lexer": "ipython3",
   "version": "3.6.2"
  }
 },
 "nbformat": 4,
 "nbformat_minor": 2
}
